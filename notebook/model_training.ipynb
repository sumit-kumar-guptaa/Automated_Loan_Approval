{
 "cells": [
  {
   "cell_type": "code",
   "execution_count": 2,
   "id": "591624a5",
   "metadata": {},
   "outputs": [],
   "source": [
    "import pandas as pd\n",
    "import numpy as np\n",
    "from sklearn.model_selection import train_test_split\n",
    "from sklearn.preprocessing import StandardScaler\n",
    "from sklearn.impute import SimpleImputer\n",
    "from sklearn.ensemble import RandomForestClassifier\n",
    "from sklearn.metrics import roc_auc_score, precision_score, recall_score, classification_report\n",
    "import joblib\n",
    "import matplotlib.pyplot as plt\n",
    "import seaborn as sns\n",
    "\n",
    "np.random.seed(42)"
   ]
  },
  {
   "cell_type": "code",
   "execution_count": 3,
   "id": "49f22b75",
   "metadata": {},
   "outputs": [],
   "source": [
    "features = ['fico', 'int.rate', 'dti', 'revol.util', 'inq.last.6mths', 'credit.policy']\n",
    "target = 'not.fully.paid'\n",
    "\n",
    "def create_synthetic_data(n_samples=10000):\n",
    "    data = {\n",
    "        'fico': np.random.normal(700, 50, n_samples).clip(300, 850),\n",
    "        'int.rate': np.random.uniform(0.05, 0.25, n_samples),\n",
    "        'dti': np.random.normal(20, 10, n_samples).clip(0, 50),\n",
    "        'revol.util': np.random.uniform(0, 100, n_samples),\n",
    "        'inq.last.6mths': np.random.poisson(1, n_samples).clip(0, 10),\n",
    "        'credit.policy': np.random.binomial(1, 0.8, n_samples),\n",
    "        'not.fully.paid': np.random.binomial(1, 0.15, n_samples)  # ~15% defaults\n",
    "    }\n",
    "    return pd.DataFrame(data)\n",
    "\n",
    "df = create_synthetic_data()"
   ]
  },
  {
   "cell_type": "code",
   "execution_count": 4,
   "id": "44a43ebf",
   "metadata": {},
   "outputs": [],
   "source": [
    "# Preprocess data\n",
    "# Handle missing values\n",
    "imputer = SimpleImputer(strategy='median')\n",
    "df[features] = imputer.fit_transform(df[features])\n",
    "\n",
    "# Split features and target\n",
    "X = df[features]\n",
    "y = df[target]\n",
    "\n",
    "# Train-test split\n",
    "X_train, X_test, y_train, y_test = train_test_split(X, y, test_size=0.2, random_state=42, stratify=y)\n",
    "\n",
    "# Scale features\n",
    "scaler = StandardScaler()\n",
    "X_train_scaled = scaler.fit_transform(X_train)\n",
    "X_test_scaled = scaler.transform(X_test)"
   ]
  },
  {
   "cell_type": "code",
   "execution_count": 5,
   "id": "ee358b6e",
   "metadata": {},
   "outputs": [
    {
     "name": "stdout",
     "output_type": "stream",
     "text": [
      "Random Forest model trained.\n"
     ]
    }
   ],
   "source": [
    "# Train Random Forest model\n",
    "model = RandomForestClassifier(n_estimators=100, random_state=42, class_weight='balanced')\n",
    "model.fit(X_train_scaled, y_train)\n",
    "print(\"Random Forest model trained.\")"
   ]
  },
  {
   "cell_type": "code",
   "execution_count": 6,
   "id": "29397657",
   "metadata": {},
   "outputs": [
    {
     "name": "stdout",
     "output_type": "stream",
     "text": [
      "Model Performance:\n",
      "AUC-ROC: 0.4833\n",
      "Precision: 0.0000\n",
      "Recall: 0.0000\n",
      "\n",
      "Classification Report:\n",
      "              precision    recall  f1-score   support\n",
      "\n",
      "           0       0.85      1.00      0.92      1700\n",
      "           1       0.00      0.00      0.00       300\n",
      "\n",
      "    accuracy                           0.85      2000\n",
      "   macro avg       0.42      0.50      0.46      2000\n",
      "weighted avg       0.72      0.85      0.78      2000\n",
      "\n"
     ]
    }
   ],
   "source": [
    "# Evaluate model\n",
    "y_pred = model.predict(X_test_scaled)\n",
    "y_pred_proba = model.predict_proba(X_test_scaled)[:, 1]\n",
    "\n",
    "# Calculate metrics\n",
    "auc = roc_auc_score(y_test, y_pred_proba)\n",
    "precision = precision_score(y_test, y_pred)\n",
    "recall = recall_score(y_test, y_pred)\n",
    "\n",
    "print(\"Model Performance:\")\n",
    "print(f\"AUC-ROC: {auc:.4f}\")\n",
    "print(f\"Precision: {precision:.4f}\")\n",
    "print(f\"Recall: {recall:.4f}\")\n",
    "print(\"\\nClassification Report:\")\n",
    "print(classification_report(y_test, y_pred))"
   ]
  },
  {
   "cell_type": "code",
   "execution_count": 7,
   "id": "30a2426a",
   "metadata": {},
   "outputs": [
    {
     "data": {
      "image/png": "[encoded data removed]",
      "text/plain": [
       "<Figure size 800x500 with 1 Axes>"
      ]
     },
     "metadata": {},
     "output_type": "display_data"
    }
   ],
   "source": [
    "# Plot feature importance\n",
    "plt.figure(figsize=(8, 5))\n",
    "feature_importance = pd.Series(model.feature_importances_, index=features)\n",
    "sns.barplot(x=feature_importance, y=feature_importance.index)\n",
    "plt.title('Feature Importance (Random Forest)')\n",
    "plt.xlabel('Importance')\n",
    "plt.ylabel('Feature')\n",
    "plt.savefig('feature_importance.png')\n",
    "plt.show()"
   ]
  },
  {
   "cell_type": "code",
   "execution_count": 8,
   "id": "5d2aacd2",
   "metadata": {},
   "outputs": [
    {
     "name": "stdout",
     "output_type": "stream",
     "text": [
      "Model, scaler, and imputer saved.\n"
     ]
    }
   ],
   "source": [
    "# Save model, scaler, and imputer\n",
    "joblib.dump(model, 'loan_approval_model.pkl')\n",
    "joblib.dump(scaler, 'scaler.pkl')\n",
    "joblib.dump(imputer, 'imputer.pkl')\n",
    "print(\"Model, scaler, and imputer saved.\")"
   ]
  },
  {
   "cell_type": "code",
   "execution_count": 9,
   "id": "68ad8621",
   "metadata": {},
   "outputs": [
    {
     "name": "stdout",
     "output_type": "stream",
     "text": [
      "New Sample Prediction: No Default (Probability: 0.17)\n"
     ]
    },
    {
     "name": "stderr",
     "output_type": "stream",
     "text": [
      "d:\\Aitomated Loan Approval\\venv\\lib\\site-packages\\sklearn\\base.py:465: UserWarning: X does not have valid feature names, but StandardScaler was fitted with feature names\n",
      "  warnings.warn(\n"
     ]
    }
   ],
   "source": [
    "# Function for new predictions\n",
    "def predict_new_data(new_data, model, scaler, imputer):\n",
    "    new_data = new_data[features]\n",
    "    new_data = imputer.transform(new_data)\n",
    "    new_data_scaled = scaler.transform(new_data)\n",
    "    predictions = model.predict(new_data_scaled)\n",
    "    probabilities = model.predict_proba(new_data_scaled)[:, 1]\n",
    "    return predictions, probabilities\n",
    "\n",
    "# Example prediction\n",
    "new_sample = pd.DataFrame({\n",
    "    'fico': [650],\n",
    "    'int.rate': [0.12],\n",
    "    'dti': [25],\n",
    "    'revol.util': [60],\n",
    "    'inq.last.6mths': [2],\n",
    "    'credit.policy': [1]\n",
    "})\n",
    "pred, prob = predict_new_data(new_sample, model, scaler, imputer)\n",
    "print(f\"New Sample Prediction: {'Default' if pred[0] == 1 else 'No Default'} (Probability: {prob[0]:.2f})\")"
   ]
  }
 ],
 "metadata": {
  "kernelspec": {
   "display_name": "Python 3",
   "language": "python",
   "name": "python3"
  },
  "language_info": {
   "codemirror_mode": {
    "name": "ipython",
    "version": 3
   },
   "file_extension": ".py",
   "mimetype": "text/x-python",
   "name": "python",
   "nbconvert_exporter": "python",
   "pygments_lexer": "ipython3",
   "version": "3.8.0"
  }
 },
 "nbformat": 4,
 "nbformat_minor": 5
}
